{
 "cells": [
  {
   "cell_type": "code",
   "execution_count": null,
   "metadata": {
    "ExecuteTime": {
     "end_time": "2017-04-08T01:12:21.713980Z",
     "start_time": "2017-04-07T20:12:19.954933-05:00"
    },
    "collapsed": false,
    "deletable": true,
    "editable": true
   },
   "outputs": [],
   "source": [
    "import numpy as np\n",
    "import scipy\n",
    "import scipy.ndimage as nd\n",
    "import scipy.cluster.vq as vq\n",
    "from PIL import Image\n",
    "import math\n",
    "from sklearn.cluster import KMeans\n",
    "from scipy.spatial.distance import euclidean\n",
    "from matplotlib import pyplot as plt"
   ]
  },
  {
   "cell_type": "code",
   "execution_count": null,
   "metadata": {
    "ExecuteTime": {
     "end_time": "2017-04-08T01:12:22.799853Z",
     "start_time": "2017-04-07T20:12:22.680726-05:00"
    },
    "collapsed": false,
    "deletable": true,
    "editable": true
   },
   "outputs": [],
   "source": [
    "# read in 3 images as numpy arrays\n",
    "img1 = Image.open('img01.jpg')\n",
    "img1 = np.asarray(img1, dtype=np.uint8)\n",
    "\n",
    "img2 = Image.open('img02.jpg')\n",
    "img2 = np.asarray(img2, dtype=np.uint8)\n",
    "\n",
    "img3 = Image.open('img03.jpg')\n",
    "img3 = np.asarray(img3, dtype=np.uint8)"
   ]
  },
  {
   "cell_type": "code",
   "execution_count": null,
   "metadata": {
    "ExecuteTime": {
     "end_time": "2017-04-08T01:12:24.178095Z",
     "start_time": "2017-04-07T20:12:23.839736-05:00"
    },
    "collapsed": false,
    "deletable": true,
    "editable": true
   },
   "outputs": [],
   "source": [
    "plt.imshow(img3)\n",
    "plt.show()"
   ]
  },
  {
   "cell_type": "code",
   "execution_count": null,
   "metadata": {
    "ExecuteTime": {
     "end_time": "2017-04-08T01:12:25.730627Z",
     "start_time": "2017-04-07T20:12:25.726217-05:00"
    },
    "collapsed": true,
    "deletable": true,
    "editable": true
   },
   "outputs": [],
   "source": [
    "# Helper function which declares an array that will keep track of the probabilities of an pixel belonging to \n",
    "# a particular cluster.\n",
    "def gen_temp_arrays(arr, num):\n",
    "    arr1 = np.zeros((len(arr), len(arr[0]), num))\n",
    "    return arr1"
   ]
  },
  {
   "cell_type": "code",
   "execution_count": null,
   "metadata": {
    "ExecuteTime": {
     "end_time": "2017-04-08T01:12:28.208735Z",
     "start_time": "2017-04-07T20:12:28.191802-05:00"
    },
    "collapsed": false,
    "deletable": true,
    "editable": true
   },
   "outputs": [],
   "source": [
    "def find_wij(pixel, means, probs, cur_mean, num_means, temp_probs, x, y):\n",
    "    '''\n",
    "    Computes the W_ij term (essentially the probabilities for a pixel to belong to a particular blob).\n",
    "    @param pixel: The current pixel for which we are computing the probabilities (the X_i).\n",
    "    @param means: The current array of means for the j clusters.\n",
    "    @param probs: The current array of proportions for the j clusters.\n",
    "    @param cur_mean: The current mean index we are computing for (The u_j).\n",
    "    @param num_means: The total number of means, which is equivilant to the total number of clusters.\n",
    "    '''\n",
    "    # Cast to float to get faster run-times.\n",
    "    mean_f = means.astype(float)\n",
    "    pixel_f = pixel.astype(float)    \n",
    "        \n",
    "    # For each of the clusters, we compute the inner value of the exponential.\n",
    "    val = [-0.5 * np.dot((pixel_f - mean_f[i]), (pixel_f - mean_f[i])) for i in range(num_means)]\n",
    "    \n",
    "    # Then shift each of the values by subtracting from the largest element in the list.\n",
    "    # This corrects for potential underflow or overflow issues.\n",
    "    val -= max(val)\n",
    "    \n",
    "    # Compute the numerator which is the exponential of the gaussian expression with the cur_mean multiplied by \n",
    "    # the probability of the current blob being expressed by the dataset.\n",
    "    numer = np.exp(val[cur_mean])*probs[cur_mean]\n",
    "    \n",
    "    # Now take the sum of the exponentials of the gaussian expression with each of the cluster means multiplied by\n",
    "    # the probability of the \"j_th\" blob being expressed by the dataset.    \n",
    "    denom = np.dot(np.exp(val), probs)\n",
    "    \n",
    "    # Return the divison of each of these two numbers, which roughly expresses the probability of this pixel belonging to\n",
    "    # the blob.\n",
    "    wij = numer / denom\n",
    "    temp_probs[x][y][cur_mean] = wij\n",
    "    \n",
    "    return wij"
   ]
  },
  {
   "cell_type": "code",
   "execution_count": null,
   "metadata": {
    "ExecuteTime": {
     "end_time": "2017-04-08T01:12:30.059119Z",
     "start_time": "2017-04-07T20:12:30.049987-05:00"
    },
    "collapsed": false,
    "deletable": true,
    "editable": true
   },
   "outputs": [],
   "source": [
    "def shift_and_normalize(image):\n",
    "    '''\n",
    "    After talking with the TAs, we came to the conclusion that only \n",
    "    shifting the mean to be zero and having unit standard deviation.\n",
    "    @param image: The image to perform the affine transformation on.\n",
    "    '''\n",
    "    \n",
    "    # First shift the image such that it has zero mean\n",
    "    mean = np.mean(image, axis=(0,1))\n",
    "    image = (image - np.mean(image, axis=(0, 1)))\n",
    "    \n",
    "    # Now scale by dividing by the standard deviation.\n",
    "    temp_image = np.reshape(image, (len(image) * len(image[0]), 3))\n",
    "    \n",
    "    # Compute the Standard deviation for the RGB values.\n",
    "    std_dev = np.std(temp_image, axis=0)\n",
    "    result = image / std_dev\n",
    "    \n",
    "    # Return the normalized image with the old std_dev and the means.\n",
    "    return mean, std_dev, image"
   ]
  },
  {
   "cell_type": "code",
   "execution_count": null,
   "metadata": {
    "ExecuteTime": {
     "end_time": "2017-04-08T01:12:32.234042Z",
     "start_time": "2017-04-07T20:12:32.112923-05:00"
    },
    "collapsed": false,
    "deletable": true,
    "editable": true
   },
   "outputs": [],
   "source": [
    "def em_step(num_means, image):\n",
    "    '''\n",
    "    This function performs the iterative 'E' and 'M' step for the mixture of gaussians.\n",
    "    @param num_means: The number of segments(clusters) to use.\n",
    "    @param image: The image where the clustering will take place, represented as an numpy array.\n",
    "    '''\n",
    "    # Define a tolerance to which we know when to stop.\n",
    "    eps = .01\n",
    "    temp_array = np.reshape(img1, (len(img1) * len(img1[0]), 3))\n",
    "\n",
    "    # Generate the init_means and init_pi(s)\n",
    "#     kmeans = KMeans(n_clusters=num_means, max_iter=1).fit(temp_array)\n",
    "#     init_mean = kmeans.cluster_centers_\n",
    "#     init_pi = np.array([len(np.where(kmeans.labels_== x)[0]) for x in np.unique(kmeans.labels_)]).astype('float32')/len(kmeans.labels_)\n",
    "    init_pi = np.full((num_means,), 1./num_means)\n",
    "    init_mean = np.zeros((num_means, 3))\n",
    "    num_pixels = len(image) * len(image[0])\n",
    "    # Set the initial mean vector to be randomly sampled pixels from the image.\\n\",\n",
    "    for m in range(num_means):\n",
    "        rand_row = np.random.randint(0, len(image))\n",
    "        rand_col = np.random.randint(0, len(image[0]))\n",
    "        init_mean[m] = image[rand_row][rand_col]\n",
    "        \n",
    "    # Construct a vector that will hold the probabilities that a particular pixel belongs to a specific cluster.\\n\",\n",
    "    temp_probs = gen_temp_arrays(image, num_means)\n",
    "        \n",
    "    # Construct a vector that will hold the probabilities that a particular pixel belongs to a specific cluster.\n",
    "    temp_probs = gen_temp_arrays(image, num_means)\n",
    "    #old_mean, old_std_dev, new_image = shift_and_normalize(image)\n",
    "    new_image = image\n",
    "    num_pixels = len(image) * len(image[0])\n",
    "    print(init_mean.shape)\n",
    "    old_mean = np.copy(init_mean)\n",
    "    count = 0\n",
    "    \n",
    "    # Iterate over each cluster. For each cluster compute the probability that a pixel belongs to a cluster.\n",
    "    # Use these probabilities to calculate a new approximation for both the mean and proportion of the cluster.\n",
    "    # We will set a max_iteration of 100, but if it reaches a local max it will converge.\n",
    "    for i in range(3):\n",
    "        for curMeanIndex in range(len(init_mean)):\n",
    "            numerator = np.zeros((3, ))\n",
    "            denominator = 0\n",
    "            for i in range(len(image)):\n",
    "                for j in range(len(image[0])):\n",
    "                    # Compute the probability that this pixel is a member of this cluster.\n",
    "                    temp_pixel = new_image[i][j]\n",
    "                    wij = find_wij(temp_pixel, init_mean, init_pi, curMeanIndex, num_means, temp_probs, i, j)\n",
    "                    \n",
    "                    # Use this probability to compute the updated means and proportions for this dataset.\n",
    "                    numerator += temp_pixel * wij\n",
    "                    denominator += wij\n",
    "\n",
    "\n",
    "            # Update the value of the mean for the particular 'blob'.\n",
    "            newMean = (numerator / denominator)\n",
    "            newPop = (denominator / num_pixels)\n",
    "                        \n",
    "            \n",
    "            # Otherwise update the estimate of the mean and proportion of the particular cluster.\n",
    "            init_mean[curMeanIndex] = newMean\n",
    "            init_pi[curMeanIndex] = newPop\n",
    "        \n",
    "        \n",
    "        diff = sum([euclidean(init_mean[i], old_mean[i]) for i in range(len(init_mean))])\n",
    "        print(\"Done with one iteration.\")  \n",
    "        print(diff)\n",
    "        if (diff < eps and count > 2):\n",
    "            return init_mean, init_pi, temp_probs\n",
    "        count += 1\n",
    "        \n",
    "        old_mean = np.copy(init_mean)\n",
    "            \n",
    "        \n",
    "        \n",
    "        \n",
    "    return (init_mean, init_pi, temp_probs)        \n"
   ]
  },
  {
   "cell_type": "markdown",
   "metadata": {
    "deletable": true,
    "editable": true
   },
   "source": [
    "First, we will segment the first image into 10, 20, and 50 segments."
   ]
  },
  {
   "cell_type": "code",
   "execution_count": null,
   "metadata": {
    "ExecuteTime": {
     "end_time": "2017-04-08T01:21:14.676447Z",
     "start_time": "2017-04-07T20:15:26.149746-05:00"
    },
    "collapsed": false,
    "deletable": true,
    "editable": true
   },
   "outputs": [],
   "source": [
    "img1_mean_10, img1_pi_10, img1_temp_probs_10 = em_step(10, img1)\n",
    "# img2_mean_10, img2_pi_10, img2_temp_probs_10 = em_step(10, img2)\n",
    "# img3_mean_10, img3_pi_10, img3_temp_probs_10 = em_step(10, img3)"
   ]
  },
  {
   "cell_type": "code",
   "execution_count": null,
   "metadata": {
    "collapsed": false,
    "deletable": true,
    "editable": true
   },
   "outputs": [],
   "source": [
    "img1_mean_20, img1_pi_20, img1_temp_probs_20 = em_step(20, img1)\n",
    "img2_mean_20, img2_pi_20, img2_temp_probs_20 = em_step(20, img2)\n",
    "list_of_sunset_means = list()\n",
    "list_of_sunset_means.append(em_step(20, img3))"
   ]
  },
  {
   "cell_type": "code",
   "execution_count": null,
   "metadata": {
    "collapsed": false,
    "deletable": true,
    "editable": true
   },
   "outputs": [],
   "source": [
    "img1_mean_50, img1_pi_50, img1_temp_probs_50 = em_step(20, img1)\n",
    "img2_mean_50, img2_pi_50, img2_temp_probs_50 = em_step(20, img2)\n",
    "img3_mean_50, img3_pi_50, img3_temp_probs_50 = em_step(20, img3)"
   ]
  },
  {
   "cell_type": "code",
   "execution_count": null,
   "metadata": {
    "ExecuteTime": {
     "end_time": "2017-04-08T01:21:19.668187Z",
     "start_time": "2017-04-07T20:21:19.664766-05:00"
    },
    "collapsed": false,
    "deletable": true,
    "editable": true
   },
   "outputs": [],
   "source": [
    "img1_mean = img1_mean_10.astype(np.uint8)"
   ]
  },
  {
   "cell_type": "code",
   "execution_count": null,
   "metadata": {
    "ExecuteTime": {
     "end_time": "2017-04-08T01:21:21.823598Z",
     "start_time": "2017-04-07T20:21:20.936717-05:00"
    },
    "collapsed": false,
    "deletable": true,
    "editable": true
   },
   "outputs": [],
   "source": [
    "new_img = np.zeros((len(img1), len(img1[0]), 3))\n",
    "for i in range(len(img1)):\n",
    "    for j in range(len(img1[0])):\n",
    "        val_max = np.argmax(img1_temp_probs_10[i][j])\n",
    "        new_img[i][j] = img1_mean_10[val_max]\n"
   ]
  },
  {
   "cell_type": "code",
   "execution_count": null,
   "metadata": {
    "ExecuteTime": {
     "end_time": "2017-04-08T01:21:22.447494Z",
     "start_time": "2017-04-07T20:21:22.443917-05:00"
    },
    "collapsed": false,
    "deletable": true,
    "editable": true
   },
   "outputs": [],
   "source": [
    "new_img = new_img.astype(np.uint8)"
   ]
  },
  {
   "cell_type": "code",
   "execution_count": null,
   "metadata": {
    "ExecuteTime": {
     "end_time": "2017-04-08T01:21:23.970856Z",
     "start_time": "2017-04-07T20:21:23.699540-05:00"
    },
    "collapsed": false,
    "deletable": true,
    "editable": true
   },
   "outputs": [],
   "source": [
    "plt.imshow(new_img)\n",
    "plt.show()"
   ]
  },
  {
   "cell_type": "code",
   "execution_count": null,
   "metadata": {
    "collapsed": false,
    "deletable": true,
    "editable": true
   },
   "outputs": [],
   "source": [
    "print(img1_mean)"
   ]
  },
  {
   "cell_type": "code",
   "execution_count": null,
   "metadata": {
    "collapsed": true,
    "deletable": true,
    "editable": true
   },
   "outputs": [],
   "source": []
  }
 ],
 "metadata": {
  "anaconda-cloud": {},
  "kernelspec": {
   "display_name": "Python 3",
   "language": "python",
   "name": "python3"
  },
  "language_info": {
   "codemirror_mode": {
    "name": "ipython",
    "version": 3
   },
   "file_extension": ".py",
   "mimetype": "text/x-python",
   "name": "python",
   "nbconvert_exporter": "python",
   "pygments_lexer": "ipython3",
   "version": "3.6.2"
  }
 },
 "nbformat": 4,
 "nbformat_minor": 2
}
