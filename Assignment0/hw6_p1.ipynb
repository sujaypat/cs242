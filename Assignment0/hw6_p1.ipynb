{
 "cells": [
  {
   "cell_type": "markdown",
   "metadata": {
    "deletable": true,
    "editable": true
   },
   "source": [
    "EM Topic models The UCI Machine Learning dataset repository hosts several datasets recording word counts for documents here. You will use the NIPS dataset.\n",
    "Cluster this to 30 topics, using a simple mixture of multinomial topic model, as lectured in class.\n",
    "Produce a graph showing, for each topic, the probability with which the topic is selected.\n",
    "Produce a table showing, for each topic, the 10 words with the highest probability for that topic."
   ]
  },
  {
   "cell_type": "code",
   "execution_count": null,
   "metadata": {
    "ExecuteTime": {
     "end_time": "2017-04-08T00:35:28.968807Z",
     "start_time": "2017-04-07T19:35:28.963937-05:00"
    },
    "collapsed": false,
    "deletable": true,
    "editable": true
   },
   "outputs": [],
   "source": [
    "import numpy as np\n",
    "import scipy\n",
    "import pandas as pd\n",
    "import sklearn.cluster as sc\n",
    "import matplotlib.pyplot as plt\n",
    "import seaborn"
   ]
  },
  {
   "cell_type": "code",
   "execution_count": null,
   "metadata": {
    "ExecuteTime": {
     "end_time": "2017-04-08T00:35:33.551620Z",
     "start_time": "2017-04-07T19:35:31.517081-05:00"
    },
    "collapsed": false,
    "deletable": true,
    "editable": true
   },
   "outputs": [],
   "source": [
    "D = 1500\n",
    "W = 12419\n",
    "\n",
    "doc_word = np.ones((D, W))\n",
    "\n",
    "# Read doc id and word id's into a matrix\n",
    "doc = open('docword.nips.txt')\n",
    "lines = doc.readlines()\n",
    "for line in lines[3:]:\n",
    "    curr_vals = list(map(int, line.split()))\n",
    "    doc_word[curr_vals[0]-1, curr_vals[1]-1] += curr_vals[2]\n",
    "\n",
    "print(\"finished creating matrix\")"
   ]
  },
  {
   "cell_type": "code",
   "execution_count": null,
   "metadata": {
    "ExecuteTime": {
     "end_time": "2017-04-08T00:35:34.860253Z",
     "start_time": "2017-04-07T19:35:34.833467-05:00"
    },
    "collapsed": true,
    "deletable": true,
    "editable": true
   },
   "outputs": [],
   "source": [
    "#Read in vocab\n",
    "vocab = []\n",
    "with open('vocab.nips.txt') as f:\n",
    "    for line in f:\n",
    "        vocab.append(line.strip())"
   ]
  },
  {
   "cell_type": "code",
   "execution_count": null,
   "metadata": {
    "ExecuteTime": {
     "end_time": "2017-04-08T00:35:36.241400Z",
     "start_time": "2017-04-07T19:35:36.224174-05:00"
    },
    "collapsed": false,
    "deletable": true,
    "editable": true
   },
   "outputs": [],
   "source": [
    "# Generate initial pi and p vectors\n",
    "T = 30\n",
    "w = np.zeros((D, T))\n",
    "pi = np.ones(T)/T\n",
    "P = np.random.random_sample((T,W))\n",
    "\n",
    "for i in range(T):\n",
    "    P[i, :] /= np.sum(P[i, :]) # Normalize\n",
    "\n",
    "print(P)\n",
    "print(pi)"
   ]
  },
  {
   "cell_type": "code",
   "execution_count": null,
   "metadata": {
    "ExecuteTime": {
     "end_time": "2017-04-08T00:35:38.067976Z",
     "start_time": "2017-04-07T19:35:38.059322-05:00"
    },
    "collapsed": false,
    "deletable": true,
    "editable": true
   },
   "outputs": [],
   "source": [
    "i = 0\n",
    "j = 0\n",
    "top = doc_word[i,:] * np.log(P[j,:])\n",
    "np.sum(top)"
   ]
  },
  {
   "cell_type": "code",
   "execution_count": null,
   "metadata": {
    "ExecuteTime": {
     "end_time": "2017-04-08T00:35:42.209038Z",
     "start_time": "2017-04-07T19:35:42.184808-05:00"
    },
    "collapsed": false,
    "deletable": true,
    "editable": true
   },
   "outputs": [],
   "source": [
    "def em_step(x, w, p, pi):\n",
    "    # Find the max number\n",
    "    \n",
    "    # For each document\n",
    "    for i in range(D):\n",
    "        temp = np.zeros(T)\n",
    "        # For each topic\n",
    "        for l in range(T):\n",
    "            # Calculate new pi values\n",
    "            temp[l] = np.sum(x[i,:] * np.log(p[l,:])) + np.log(pi[l])        \n",
    "            max_num = np.amax(temp)\n",
    "        bottom = 0\n",
    "        for l in range(T):\n",
    "            # Calculate denominator of w_ij\n",
    "            bottom += np.exp(temp[l] - max_num)\n",
    "        for j in range(T):             \n",
    "            #Calculate numerator of w_ij\n",
    "            top = np.sum(x[i,:] * np.log(p[j,:])) + np.log(pi[j]) - max_num\n",
    "            top = np.exp(top)\n",
    "            w[i,j] = top/bottom\n",
    "            \n",
    "    for j in range(T):\n",
    "        new_p_top = np.zeros(W)\n",
    "        new_p_bot = np.zeros(W)\n",
    "        # For each topic, for each document, recalculate new probabilities based on the previous probabilities\n",
    "        for i in range(D):\n",
    "            new_p_top += x[i] * w[i,j]\n",
    "            new_p_bot += np.dot(x[i], np.ones(W)) * w[i,j]\n",
    "        \n",
    "        p[j,:] = new_p_top/new_p_bot\n",
    "        \n",
    "        sum_pi = 0.0\n",
    "        for i in range(D):\n",
    "            sum_pi += w[i,j]\n",
    "        # New average pi_j\n",
    "        pi[j] = sum_pi/D"
   ]
  },
  {
   "cell_type": "code",
   "execution_count": null,
   "metadata": {
    "ExecuteTime": {
     "end_time": "2017-04-08T00:40:09.090534Z",
     "start_time": "2017-04-07T19:35:44.877926-05:00"
    },
    "collapsed": false,
    "deletable": true,
    "editable": true
   },
   "outputs": [],
   "source": [
    "count = 0\n",
    "while (1):\n",
    "    count = count + 1\n",
    "    \n",
    "    old_P = np.copy(P)\n",
    "    old_pi = np.copy(pi)\n",
    "    \n",
    "    em_step(doc_word, w, P, pi)\n",
    "    \n",
    "    # Check change in p and pi after EM step\n",
    "    norm_P = np.linalg.norm(P-old_P)\n",
    "    norm_pi = np.linalg.norm(pi-old_pi)\n",
    "    \n",
    "    print(count, norm_P, norm_pi)\n",
    "    # Run EM until an epsilon is reached\n",
    "    if norm_P < 0.0001:\n",
    "        break"
   ]
  },
  {
   "cell_type": "code",
   "execution_count": null,
   "metadata": {
    "ExecuteTime": {
     "end_time": "2017-04-08T00:12:59.343401Z",
     "start_time": "2017-04-07T19:12:59.009586-05:00"
    },
    "collapsed": false,
    "deletable": true,
    "editable": true
   },
   "outputs": [],
   "source": [
    "bar_width = 1\n",
    "plt.bar(np.arange(pi.shape[0])*bar_width, pi, bar_width)\n",
    "plt.title('Topic vs. Probability')\n",
    "plt.xlabel('Topic Number')\n",
    "plt.ylabel('Probability')\n",
    "plt.show()"
   ]
  },
  {
   "cell_type": "code",
   "execution_count": null,
   "metadata": {
    "ExecuteTime": {
     "end_time": "2017-04-08T00:12:36.717903Z",
     "start_time": "2017-04-07T19:12:36.696423-05:00"
    },
    "collapsed": false,
    "deletable": true,
    "editable": true
   },
   "outputs": [],
   "source": [
    "top_words = []\n",
    "for t in range(T):\n",
    "    # Sort words in each topic by probability\n",
    "    top_ten = P[t].argsort()[-10:][::-1]\n",
    "    temp_words = []\n",
    "    for i in top_ten:\n",
    "        # Get the top ten words\n",
    "        temp_words.append(vocab[i])\n",
    "    top_words.append(temp_words)\n"
   ]
  },
  {
   "cell_type": "code",
   "execution_count": null,
   "metadata": {
    "ExecuteTime": {
     "end_time": "2017-04-08T00:12:39.373997Z",
     "start_time": "2017-04-07T19:12:39.368091-05:00"
    },
    "collapsed": false,
    "deletable": true,
    "editable": true
   },
   "outputs": [],
   "source": [
    "print(np.array(top_words))"
   ]
  },
  {
   "cell_type": "code",
   "execution_count": null,
   "metadata": {
    "collapsed": false,
    "deletable": true,
    "editable": true
   },
   "outputs": [],
   "source": [
    "df = pd.DataFrame(np.asarray(top_words)).T\n",
    "df[[x for x in range(12)]]"
   ]
  },
  {
   "cell_type": "code",
   "execution_count": null,
   "metadata": {
    "collapsed": false,
    "deletable": true,
    "editable": true
   },
   "outputs": [],
   "source": [
    "df[[x for x in range(12, 24)]]"
   ]
  },
  {
   "cell_type": "code",
   "execution_count": null,
   "metadata": {
    "collapsed": false,
    "deletable": true,
    "editable": true
   },
   "outputs": [],
   "source": [
    "df[[x for x in range(24, 30)]]"
   ]
  }
 ],
 "metadata": {
  "kernelspec": {
   "display_name": "Python 3",
   "language": "python",
   "name": "python3"
  },
  "language_info": {
   "codemirror_mode": {
    "name": "ipython",
    "version": 3
   },
   "file_extension": ".py",
   "mimetype": "text/x-python",
   "name": "python",
   "nbconvert_exporter": "python",
   "pygments_lexer": "ipython3",
   "version": "3.6.2"
  }
 },
 "nbformat": 4,
 "nbformat_minor": 2
}
